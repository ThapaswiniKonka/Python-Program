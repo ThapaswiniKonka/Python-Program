{
 "cells": [
  {
   "cell_type": "markdown",
   "metadata": {},
   "source": [
    "SLICING"
   ]
  },
  {
   "cell_type": "markdown",
   "metadata": {},
   "source": [
    "Here to extract multiple elements from a given collection we use Slicing"
   ]
  },
  {
   "cell_type": "markdown",
   "metadata": {},
   "source": [
    "SLICING ON STRING"
   ]
  },
  {
   "cell_type": "code",
   "execution_count": 2,
   "metadata": {},
   "outputs": [
    {
     "name": "stdout",
     "output_type": "stream",
     "text": [
      "<class 'str'>\n",
      "Good Morning\n",
      "Good\n",
      "Good M\n",
      "d Mor\n",
      "d Morn\n",
      "i\n",
      "o on\n"
     ]
    }
   ],
   "source": [
    "TS=\"Good Morning\"\n",
    "print(type(TS))\n",
    "print(TS[0:])\n",
    "print(TS[0:4])\n",
    "print(TS[0:6])\n",
    "print(TS[3:8])\n",
    "print(TS[-9:9])\n",
    "print(TS[-3:10])\n",
    "print(TS[2:10:2])"
   ]
  },
  {
   "cell_type": "code",
   "execution_count": 47,
   "metadata": {},
   "outputs": [
    {
     "name": "stdout",
     "output_type": "stream",
     "text": [
      "<class 'str'>\n",
      "Amma Nana\n",
      "anaN ammA\n",
      "ana\n",
      "\n",
      "A\n",
      "mA\n",
      "mN\n",
      "aN\n"
     ]
    }
   ],
   "source": [
    "NEW=\"Amma Nana\"\n",
    "print(type(NEW))\n",
    "print(NEW[::])\n",
    "print(NEW[::-1])\n",
    "print(NEW[:5:-1])\n",
    "print(NEW[4:5:-1])\n",
    "print(NEW[0])\n",
    "print(NEW[1::-1])\n",
    "print(NEW[1:6:4])\n",
    "print(NEW[-1:-5:-3])"
   ]
  },
  {
   "cell_type": "markdown",
   "metadata": {},
   "source": [
    "SLICING WITH RESPECT TO DICTIONARY"
   ]
  },
  {
   "cell_type": "code",
   "execution_count": 20,
   "metadata": {},
   "outputs": [
    {
     "name": "stdout",
     "output_type": "stream",
     "text": [
      "<class 'dict'>\n",
      "oneplus\n",
      "Apple\n",
      "Venu\n",
      "gopal\n",
      "Amaresh\n",
      "Anaconda\n",
      "elppA\n",
      "sulp\n",
      "['oneplus', 'Apple']\n",
      "Ana\n",
      "resh\n",
      "hse\n",
      "oneplusApple\n",
      "Venuresh\n"
     ]
    }
   ],
   "source": [
    "d={\n",
    "    1:[\"oneplus\",\"Apple\"],\n",
    "    2:{\"name1\":\"Venugopal\",\"name2\":\"Amaresh\"},\n",
    "    \"a\":\"Anaconda\"\n",
    "}\n",
    "print(type(d))\n",
    "print(d[1][0])\n",
    "print(d[1][1])\n",
    "print(d[2]['name1'][0:4])\n",
    "print(d[2]['name1'][4:])\n",
    "print(d[2]['name2'])\n",
    "print(d['a'])\n",
    "print(d[1][1][::-1])\n",
    "print(d[1][0][6:2:-1])\n",
    "print(d[1])\n",
    "print(d['a'][0:3:1])\n",
    "print(d[2]['name2'][3:])\n",
    "print(d[2]['name2'][-1:-4:-1])\n",
    "print(d[1][0]+d[1][1])\n",
    "print(d[2]['name1'][0:4]+d[2]['name2'][3:])\n"
   ]
  },
  {
   "cell_type": "markdown",
   "metadata": {},
   "source": [
    "SLICING WITH RESPECT TO LIST"
   ]
  },
  {
   "cell_type": "code",
   "execution_count": 9,
   "metadata": {},
   "outputs": [
    {
     "name": "stdout",
     "output_type": "stream",
     "text": [
      "[1, 2, 3]\n",
      "[9, 6]\n",
      "[1, 2, 3, 4, 5, 6, 9]\n",
      "[9, 6, 5, 4, 3, 2, 1]\n"
     ]
    }
   ],
   "source": [
    "L=[1,2,3,4,5,6,9]\n",
    "print(L[0:3])\n",
    "print(L[-1:-3:-1])\n",
    "print(L[::])\n",
    "print(L[::-1])"
   ]
  },
  {
   "cell_type": "markdown",
   "metadata": {},
   "source": [
    "SLICING WITH RESPECT TO TUPLE"
   ]
  },
  {
   "cell_type": "code",
   "execution_count": 14,
   "metadata": {},
   "outputs": [
    {
     "name": "stdout",
     "output_type": "stream",
     "text": [
      "(1, 2, 'Dinga')\n",
      "(1, 2)\n",
      "('Dinga', 'Dingi')\n"
     ]
    }
   ],
   "source": [
    "T=(1,2,\"Dinga\",\"Dingi\")\n",
    "print(T[:3])\n",
    "print(T[0:2])\n",
    "print(T[2:])"
   ]
  }
 ],
 "metadata": {
  "kernelspec": {
   "display_name": "Python 3",
   "language": "python",
   "name": "python3"
  },
  "language_info": {
   "codemirror_mode": {
    "name": "ipython",
    "version": 3
   },
   "file_extension": ".py",
   "mimetype": "text/x-python",
   "name": "python",
   "nbconvert_exporter": "python",
   "pygments_lexer": "ipython3",
   "version": "3.11.4"
  }
 },
 "nbformat": 4,
 "nbformat_minor": 2
}
