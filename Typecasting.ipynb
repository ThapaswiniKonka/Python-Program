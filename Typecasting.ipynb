{
 "cells": [
  {
   "cell_type": "markdown",
   "metadata": {},
   "source": [
    "TYPE CASTING "
   ]
  },
  {
   "cell_type": "markdown",
   "metadata": {},
   "source": [
    "Converting one Datatype into another datatype is called TYPE CASTING"
   ]
  },
  {
   "cell_type": "markdown",
   "metadata": {},
   "source": [
    "CONVERTING INTEGER INTO OTHER DATATYPES"
   ]
  },
  {
   "cell_type": "markdown",
   "metadata": {},
   "source": [
    "int can be converted into Float,Complex,Bool and String"
   ]
  },
  {
   "cell_type": "code",
   "execution_count": 36,
   "metadata": {},
   "outputs": [
    {
     "name": "stdout",
     "output_type": "stream",
     "text": [
      "<class 'int'>\n",
      "100.0\n",
      "(100+0j)\n",
      "True\n",
      "100\n",
      "1\n",
      "0\n",
      "0\n"
     ]
    }
   ],
   "source": [
    "a=100\n",
    "print(type(a))\n",
    "print(float(a))\n",
    "print(complex(a))\n",
    "print(bool(a))\n",
    "print(str(a))\n",
    "data=str(a)\n",
    "print(data[0])\n",
    "print(data[1])\n",
    "print(data[2])"
   ]
  },
  {
   "cell_type": "markdown",
   "metadata": {},
   "source": [
    "CONVERTING FLOAT INTO OTHER DATATYPES"
   ]
  },
  {
   "cell_type": "markdown",
   "metadata": {},
   "source": [
    "FLOAT can be converted into int,float,complex,bool and string"
   ]
  },
  {
   "cell_type": "code",
   "execution_count": 1,
   "metadata": {},
   "outputs": [
    {
     "name": "stdout",
     "output_type": "stream",
     "text": [
      "<class 'float'>\n",
      "10\n",
      "10.6\n",
      "(10.6+0j)\n",
      "True\n",
      "10.6\n",
      "1\n",
      "0\n",
      ".\n",
      "6\n"
     ]
    }
   ],
   "source": [
    "a=10.6\n",
    "print(type(a))\n",
    "print(int(a))\n",
    "print(float(a))\n",
    "print(complex(a))\n",
    "print(bool(a))\n",
    "print(str(a))\n",
    "data=str(a)\n",
    "print(data[0])\n",
    "print(data[1])\n",
    "print(data[2])\n",
    "print(data[3])"
   ]
  },
  {
   "cell_type": "markdown",
   "metadata": {},
   "source": [
    "COMPLEX TO OTHER DATATYPES"
   ]
  },
  {
   "cell_type": "markdown",
   "metadata": {},
   "source": [
    "Complex can be converted into bool and string"
   ]
  },
  {
   "cell_type": "code",
   "execution_count": 3,
   "metadata": {},
   "outputs": [
    {
     "name": "stdout",
     "output_type": "stream",
     "text": [
      "<class 'complex'>\n",
      "True\n",
      "(10+2j)\n",
      "(\n",
      "1\n",
      "0\n",
      ")\n"
     ]
    }
   ],
   "source": [
    "a=10+2j\n",
    "print(type(a))\n",
    "print(bool(a))\n",
    "print(str(a))\n",
    "data=str(a)\n",
    "print(data[0])\n",
    "print(data[1])\n",
    "print(data[2])\n",
    "print(data[-1])"
   ]
  },
  {
   "cell_type": "markdown",
   "metadata": {},
   "source": [
    "CONVERTING BOOLEAN TO OTHER DATATYPES"
   ]
  },
  {
   "cell_type": "markdown",
   "metadata": {},
   "source": [
    "Boolean can be Converted into int,float,complex,string"
   ]
  },
  {
   "cell_type": "code",
   "execution_count": 2,
   "metadata": {},
   "outputs": [
    {
     "name": "stdout",
     "output_type": "stream",
     "text": [
      "<class 'bool'>\n",
      "1\n",
      "1.0\n",
      "(1+0j)\n",
      "True\n",
      "True\n",
      "T\n",
      "r\n",
      "u\n",
      "e\n"
     ]
    }
   ],
   "source": [
    "a=True\n",
    "print(type(a))\n",
    "print(int(a))\n",
    "print(float(a))\n",
    "print(complex(a))\n",
    "print(bool(a))\n",
    "print(str(a))\n",
    "data=str(a)\n",
    "print(data[0])\n",
    "print(data[1])\n",
    "print(data[2])\n",
    "print(data[3])"
   ]
  },
  {
   "cell_type": "markdown",
   "metadata": {},
   "source": [
    "CONVERTING STRING TO OTHER DATATYPES"
   ]
  },
  {
   "cell_type": "markdown",
   "metadata": {},
   "source": [
    "String can be converted into string,boolean,list,tuple and set"
   ]
  },
  {
   "cell_type": "code",
   "execution_count": 40,
   "metadata": {},
   "outputs": [
    {
     "name": "stdout",
     "output_type": "stream",
     "text": [
      "<class 'str'>\n",
      "Dhoni\n",
      "True\n",
      "['D', 'h', 'o', 'n', 'i']\n",
      "('D', 'h', 'o', 'n', 'i')\n",
      "{'h', 'D', 'o', 'i', 'n'}\n",
      "D\n",
      "h\n",
      "o\n",
      "n\n",
      "i\n"
     ]
    }
   ],
   "source": [
    "a=\"Dhoni\"\n",
    "print(type(a))\n",
    "print(str(a))\n",
    "print(bool(a))\n",
    "print(list(a))\n",
    "print(tuple(a))\n",
    "print(set(a))\n",
    "data=str(a)\n",
    "print(data[0])\n",
    "print(data[1])\n",
    "print(data[2])\n",
    "print(data[3])\n",
    "print(data[4])"
   ]
  },
  {
   "cell_type": "markdown",
   "metadata": {},
   "source": [
    "CONVERTING LIST TO OTHERS DATATYPES"
   ]
  },
  {
   "cell_type": "markdown",
   "metadata": {},
   "source": [
    "List can be converted into string,set,tuple,boolean and Dictionary\n",
    "NOTE:Dictionary can be converted only when the list contains sub elements and the elements should be of List,Tuple and Set only,This is applicable for Multivalue datatypes."
   ]
  },
  {
   "cell_type": "code",
   "execution_count": 41,
   "metadata": {},
   "outputs": [
    {
     "name": "stdout",
     "output_type": "stream",
     "text": [
      "<class 'list'>\n",
      "[1, 2, 3, 'PYTHON']\n",
      "]\n",
      "(1, 2, 3, 'PYTHON')\n",
      "{1, 2, 3, 'PYTHON'}\n",
      "True\n",
      "{1: 2, 3: 4}\n"
     ]
    }
   ],
   "source": [
    "L=[1,2,3,'PYTHON']\n",
    "print (type(L))\n",
    "print(str(L))\n",
    "s=str(L)\n",
    "print(s[-1])\n",
    "print(tuple(L))\n",
    "print(set(L))\n",
    "print(bool(L))\n",
    "P=[(1,2),(3,4)]\n",
    "print(dict(P))"
   ]
  },
  {
   "cell_type": "markdown",
   "metadata": {},
   "source": [
    "CONVERTING TUPLE INTO OTHER DATATYPES"
   ]
  },
  {
   "cell_type": "markdown",
   "metadata": {},
   "source": [
    "Tuple can be converted into string,list,set,bool and Dictionary"
   ]
  },
  {
   "cell_type": "code",
   "execution_count": 42,
   "metadata": {},
   "outputs": [
    {
     "name": "stdout",
     "output_type": "stream",
     "text": [
      "<class 'tuple'>\n",
      "(1, 2, 3, 'PYTHON')\n",
      "]\n",
      "[1, 2, 3, 'PYTHON']\n",
      "{1, 2, 3, 'PYTHON'}\n",
      "True\n",
      "{'name': 'Raju', 1: 2}\n"
     ]
    }
   ],
   "source": [
    "T=(1,2,3,\"PYTHON\")\n",
    "print(type(T))\n",
    "print(str(T))\n",
    "S=str(T)\n",
    "print(s[-1])\n",
    "print(list(T))\n",
    "print(set(T))\n",
    "print(bool(T))\n",
    "D=[(\"name\",\"Raju\"),(1,2)]\n",
    "print(dict(D))"
   ]
  },
  {
   "cell_type": "markdown",
   "metadata": {},
   "source": [
    "CONVERTING SET INTO OTHER DATATYPES"
   ]
  },
  {
   "cell_type": "markdown",
   "metadata": {},
   "source": [
    "Set can be converted list,string,tuple,bool and Dictionary"
   ]
  },
  {
   "cell_type": "code",
   "execution_count": 43,
   "metadata": {},
   "outputs": [
    {
     "name": "stdout",
     "output_type": "stream",
     "text": [
      "<class 'set'>\n",
      "[1, 2, 3, 'python']\n",
      "{1, 2, 3, 'python'}\n",
      "(1, 2, 3, 'python')\n",
      "True\n",
      "{'name': 'Python', 1: 2}\n"
     ]
    }
   ],
   "source": [
    "S={1,2,3,\"python\"}\n",
    "print(type(S))\n",
    "print(list(S))\n",
    "print(str(S))\n",
    "print(tuple(S))\n",
    "print(bool(S))\n",
    "D=[('name','Python'),(1,2)]\n",
    "print(dict(D))"
   ]
  },
  {
   "cell_type": "markdown",
   "metadata": {},
   "source": [
    "CONVERTING DICT TO OTHER DATATYPES"
   ]
  },
  {
   "cell_type": "markdown",
   "metadata": {},
   "source": [
    "Dictionary can be converted into list,tuple,set,string and bool"
   ]
  },
  {
   "cell_type": "code",
   "execution_count": 44,
   "metadata": {},
   "outputs": [
    {
     "name": "stdout",
     "output_type": "stream",
     "text": [
      "<class 'dict'>\n",
      "[1, 'name']\n",
      "(1, 'name')\n",
      "{1, 'name'}\n",
      "{1: 2, 'name': 'django'}\n",
      "True\n"
     ]
    }
   ],
   "source": [
    "d={1:2,\"name\":\"django\"}\n",
    "print(type(d))\n",
    "print(list(d))\n",
    "print(tuple(d))\n",
    "print(set(d))\n",
    "print(str(d))\n",
    "print(bool(d))"
   ]
  },
  {
   "cell_type": "markdown",
   "metadata": {},
   "source": [
    "EXAMPLES ON TYPE CASTING "
   ]
  },
  {
   "cell_type": "code",
   "execution_count": 8,
   "metadata": {},
   "outputs": [
    {
     "name": "stdout",
     "output_type": "stream",
     "text": [
      "<class 'int'>\n",
      "15\n",
      "1\n",
      "(15+0j)\n"
     ]
    }
   ],
   "source": [
    "I=15\n",
    "print(type(15))\n",
    "print(str(15))\n",
    "s=str(15)\n",
    "print(s[0])\n",
    "print(complex(15))"
   ]
  },
  {
   "cell_type": "code",
   "execution_count": 4,
   "metadata": {},
   "outputs": [
    {
     "name": "stdout",
     "output_type": "stream",
     "text": [
      "<class 'float'>\n",
      "15\n",
      "(15.5+0j)\n",
      "True\n",
      "15.5\n",
      "5\n",
      "1\n"
     ]
    }
   ],
   "source": [
    "F=15.5\n",
    "print(type(F))\n",
    "print(int(F))\n",
    "print(complex(F))\n",
    "print(bool(F))\n",
    "print(str(F))\n",
    "s=str(F)\n",
    "print(s[-1])\n",
    "print(s[0])"
   ]
  },
  {
   "cell_type": "code",
   "execution_count": 5,
   "metadata": {},
   "outputs": [
    {
     "name": "stdout",
     "output_type": "stream",
     "text": [
      "<class 'float'>\n",
      "15\n",
      "(15.5+0j)\n",
      "True\n",
      "15.5\n",
      "5\n",
      "1\n"
     ]
    }
   ],
   "source": [
    "J=15.5\n",
    "print(type(15.5))\n",
    "print(int(15.5))\n",
    "print(complex(15.5))\n",
    "print(bool(15.5))\n",
    "print(str(15.5))\n",
    "s=str(15.5)\n",
    "print(s[-1])\n",
    "print(s[0])"
   ]
  },
  {
   "cell_type": "code",
   "execution_count": 6,
   "metadata": {},
   "outputs": [
    {
     "name": "stdout",
     "output_type": "stream",
     "text": [
      "<class 'complex'>\n",
      "True\n",
      "(15+2j)\n"
     ]
    }
   ],
   "source": [
    "c=15+2j\n",
    "print(type(c))\n",
    "print(bool(c))\n",
    "print(str(c))"
   ]
  },
  {
   "cell_type": "code",
   "execution_count": 7,
   "metadata": {},
   "outputs": [
    {
     "name": "stdout",
     "output_type": "stream",
     "text": [
      "<class 'complex'>\n",
      "True\n",
      "(15+2j)\n",
      "(\n",
      "1\n",
      "j\n"
     ]
    }
   ],
   "source": [
    "K=15+2j\n",
    "print(type(15+2j))\n",
    "print(bool(15+2j))\n",
    "print(str(15+2j))\n",
    "S=str(K)\n",
    "print(S[0])\n",
    "print(S[1])\n",
    "print(S[5])"
   ]
  },
  {
   "cell_type": "code",
   "execution_count": 8,
   "metadata": {},
   "outputs": [
    {
     "name": "stdout",
     "output_type": "stream",
     "text": [
      "<class 'complex'>\n",
      "5j\n",
      "5\n",
      "j\n"
     ]
    }
   ],
   "source": [
    "T=0+5j\n",
    "print(type(T))\n",
    "print(str(T))\n",
    "S=str(T)\n",
    "print(S[0])\n",
    "print(S[-1])"
   ]
  },
  {
   "cell_type": "code",
   "execution_count": 9,
   "metadata": {},
   "outputs": [
    {
     "name": "stdout",
     "output_type": "stream",
     "text": [
      "<class 'bool'>\n",
      "0\n",
      "0.0\n",
      "0j\n",
      "False\n",
      "F\n",
      "e\n"
     ]
    }
   ],
   "source": [
    "B=False\n",
    "print(type(False))\n",
    "print(int(False))\n",
    "print(float(False))\n",
    "print(complex(False))\n",
    "print(str(False))\n",
    "print(str(False)[0])\n",
    "print(str(False)[-1])"
   ]
  },
  {
   "cell_type": "code",
   "execution_count": 10,
   "metadata": {},
   "outputs": [
    {
     "name": "stdout",
     "output_type": "stream",
     "text": [
      "<class 'str'>\n",
      "1\n",
      "15\n",
      "15.0\n",
      "(15+0j)\n",
      "True\n",
      "['1', '5']\n",
      "('1', '5')\n",
      "{'5', '1'}\n"
     ]
    }
   ],
   "source": [
    "st=\"15\"\n",
    "print(type(st))\n",
    "print(st[0])\n",
    "print(int(st))\n",
    "print(float(st))\n",
    "print(complex(st))\n",
    "print(bool(st))\n",
    "print(list(st))\n",
    "print(tuple(st))\n",
    "print(set(st))\n"
   ]
  },
  {
   "cell_type": "code",
   "execution_count": 11,
   "metadata": {},
   "outputs": [
    {
     "name": "stdout",
     "output_type": "stream",
     "text": [
      "<class 'str'>\n",
      "['P', 'y', 't', 'h', 'o', 'n', ',', 'j', 'a', 'v', 'a']\n",
      "('P', 'y', 't', 'h', 'o', 'n', ',', 'j', 'a', 'v', 'a')\n",
      "{'h', ',', 'j', 'o', 'y', 'P', 'v', 'n', 'a', 't'}\n",
      "{'name': 'python,java', 1: 2}\n"
     ]
    }
   ],
   "source": [
    "st=\"Python,java\"\n",
    "print(type(st))\n",
    "print(list(st))\n",
    "print(tuple(st))\n",
    "print(set(st))\n",
    "st={(1,2),(\"name\",\"python,java\")}\n",
    "print(dict(st))"
   ]
  },
  {
   "cell_type": "code",
   "execution_count": 12,
   "metadata": {},
   "outputs": [
    {
     "name": "stdout",
     "output_type": "stream",
     "text": [
      "<class 'str'>\n",
      "True\n",
      "['1', '5', ',', '(', '1', '2', ',', '1', '3', ')']\n",
      "{',', '2', '5', '1', '3', ')', '('}\n",
      "('1', '5', ',', '(', '1', '2', ',', '1', '3', ')')\n",
      "{1: 2, 'name': 'python'}\n"
     ]
    }
   ],
   "source": [
    "st=\"15,(12,13)\"\n",
    "print(type(st))\n",
    "print(bool(st))\n",
    "print(list(st))\n",
    "print(set(st))\n",
    "print(tuple(st))\n",
    "st={(1,2),(\"name\",\"python\")}\n",
    "print(dict(st))"
   ]
  },
  {
   "cell_type": "code",
   "execution_count": 34,
   "metadata": {},
   "outputs": [
    {
     "name": "stdout",
     "output_type": "stream",
     "text": [
      "<class 'list'>\n",
      "(15, 13, 12)\n",
      "True\n",
      "{12, 13, 15}\n",
      "[15, 13, 12]\n"
     ]
    }
   ],
   "source": [
    "L=[15,13,12]\n",
    "print(type(L))\n",
    "print(tuple(L))\n",
    "print(bool(L))\n",
    "print(set(L))\n",
    "print(str(L))\n"
   ]
  },
  {
   "cell_type": "code",
   "execution_count": 42,
   "metadata": {},
   "outputs": [
    {
     "name": "stdout",
     "output_type": "stream",
     "text": [
      "<class 'list'>\n",
      "[15, 'Python', 14]\n",
      "(15, 'Python', 14)\n",
      "True\n",
      "{14, 'Python', 15}\n",
      "[15, 'Python', 14]\n"
     ]
    }
   ],
   "source": [
    "L=[15,\"Python\",14]\n",
    "print(type(L))\n",
    "print(str(L))\n",
    "print(tuple(L))\n",
    "print(bool(L))\n",
    "print(set(L))\n"
   ]
  },
  {
   "cell_type": "code",
   "execution_count": 51,
   "metadata": {},
   "outputs": [
    {
     "name": "stdout",
     "output_type": "stream",
     "text": [
      "<class 'list'>\n",
      "('Python', 'Java')\n",
      "{'Java', 'Python'}\n",
      "True\n",
      "['Python', 'Java']\n",
      "[\n",
      "]\n"
     ]
    }
   ],
   "source": [
    "L=[\"Python\",\"Java\"]\n",
    "print(type(L))\n",
    "print(tuple(L))\n",
    "print(set(L))\n",
    "print(bool(L))\n",
    "print(str(L))\n",
    "S=str(L)\n",
    "print(S[0])\n",
    "print(S[-1])"
   ]
  },
  {
   "cell_type": "code",
   "execution_count": 2,
   "metadata": {},
   "outputs": [
    {
     "name": "stdout",
     "output_type": "stream",
     "text": [
      "<class 'list'>\n",
      "{20: 30, 'name': 'python', 40: 50}\n"
     ]
    }
   ],
   "source": [
    "L=[{20,30},{'name','python'},{40,50}]\n",
    "print(type(L))\n",
    "print(dict(L))\n"
   ]
  },
  {
   "cell_type": "code",
   "execution_count": 5,
   "metadata": {},
   "outputs": [
    {
     "name": "stdout",
     "output_type": "stream",
     "text": [
      "<class 'tuple'>\n",
      "(1, 2, 'Python', 'Java')\n",
      "True\n",
      "{'Python', 1, 2, 'Java'}\n",
      "(1, 2, 'Python', 'Java')\n",
      "[1, 2, 'Python', 'Java']\n",
      "(\n",
      "1\n",
      ",\n",
      " \n",
      "2\n",
      ")\n",
      "v\n"
     ]
    }
   ],
   "source": [
    "T=(1,2,'Python','Java')\n",
    "print(type(T))\n",
    "print(str(T))\n",
    "print(bool(T))\n",
    "print(set(T))\n",
    "print(tuple(T))\n",
    "print(list(T))\n",
    "st=str(T)\n",
    "print(st[0])\n",
    "print(st[1])\n",
    "print(st[2])\n",
    "print(st[3])\n",
    "print(st[4])\n",
    "print(st[-1])\n",
    "print(st[-4])"
   ]
  },
  {
   "cell_type": "code",
   "execution_count": 13,
   "metadata": {},
   "outputs": [
    {
     "name": "stdout",
     "output_type": "stream",
     "text": [
      "<class 'tuple'>\n",
      "{'abc': 22, 20: 23}\n"
     ]
    }
   ],
   "source": [
    "Thap=({'abc',22},(20,23))\n",
    "print(type(Thap))\n",
    "print(dict(Thap))"
   ]
  },
  {
   "cell_type": "code",
   "execution_count": 3,
   "metadata": {},
   "outputs": [
    {
     "name": "stdout",
     "output_type": "stream",
     "text": [
      "<class 'tuple'>\n",
      "True\n",
      "('Java', 'Python')\n",
      "(\n",
      "'\n",
      ")\n",
      "'\n",
      "J\n",
      "a\n",
      "['Java', 'Python']\n",
      "{'Python', 'Java'}\n"
     ]
    }
   ],
   "source": [
    "Thus=('Java','Python')\n",
    "print(type(Thus))\n",
    "print(bool(Thus))\n",
    "print(str(Thus))\n",
    "Ven=str(Thus)\n",
    "print(Ven[0])\n",
    "print(Ven[1])\n",
    "print(Ven[-1])\n",
    "print(Ven[-2])\n",
    "print(Ven[2])\n",
    "print(Ven[3])\n",
    "print(list(Thus))\n",
    "print(set(Thus))"
   ]
  },
  {
   "cell_type": "code",
   "execution_count": 12,
   "metadata": {},
   "outputs": [
    {
     "name": "stdout",
     "output_type": "stream",
     "text": [
      "<class 'set'>\n",
      "{16, 25, 'Python', 15}\n",
      "[16, 25, 'Python', 15]\n",
      "(16, 25, 'Python', 15)\n",
      "True\n",
      "{\n",
      "1\n",
      "}\n",
      "5\n",
      "<class 'set'>\n",
      "{1: 2, 'name': 'python'}\n"
     ]
    }
   ],
   "source": [
    "Sit={15,16,25,'Python'}\n",
    "print(type(Sit))\n",
    "print(str(Sit))\n",
    "print(list(Sit))\n",
    "print(tuple(Sit))\n",
    "print(bool(Sit))\n",
    "sy=str(Sit)\n",
    "print(sy[0])\n",
    "print(sy[1])\n",
    "print(sy[-1])\n",
    "print(sy[-2])\n",
    "disc={(1,2),('name','python')}\n",
    "print(type(disc))\n",
    "print(dict(disc))"
   ]
  },
  {
   "cell_type": "code",
   "execution_count": 20,
   "metadata": {},
   "outputs": [
    {
     "name": "stdout",
     "output_type": "stream",
     "text": [
      "<class 'dict'>\n",
      "{20: 21, 'course': 'Python'}\n",
      "{\n",
      "2\n",
      "}\n",
      "True\n",
      "{20, 'course'}\n",
      "[20, 'course']\n",
      "(20, 'course')\n"
     ]
    }
   ],
   "source": [
    "Dict={20:21,'course':'Python'}\n",
    "print(type(Dict))\n",
    "print(str(Dict))\n",
    "Ty=str(Dict)\n",
    "print(Ty[0])\n",
    "print(Ty[1])\n",
    "print(Ty[-1])\n",
    "print(bool(Dict))\n",
    "print(set(Dict))\n",
    "print(list(Dict))\n",
    "print(tuple(Dict))\n",
    "\n",
    "\n"
   ]
  },
  {
   "cell_type": "code",
   "execution_count": 2,
   "metadata": {},
   "outputs": [
    {
     "name": "stdout",
     "output_type": "stream",
     "text": [
      "<class 'dict'>\n",
      "{'age': 21, 24: 25, 'name': 'Spiders'}\n",
      "{\n",
      "'\n",
      "}\n",
      "a\n",
      "g\n",
      "{'age', 24, 'name'}\n",
      "True\n",
      "['age', 24, 'name']\n",
      "('age', 24, 'name')\n"
     ]
    }
   ],
   "source": [
    "Dhoni={'age':21,24:25,'name':'Spiders'}\n",
    "print(type(Dhoni))\n",
    "print(str(Dhoni))\n",
    "sam=str(Dhoni)\n",
    "print(sam[0])\n",
    "print(sam[1])\n",
    "print(sam[-1])\n",
    "print(sam[2])\n",
    "print(sam[3])\n",
    "print(set(Dhoni))\n",
    "print(bool(Dhoni))\n",
    "print(list(Dhoni))\n",
    "print(tuple(Dhoni))"
   ]
  }
 ],
 "metadata": {
  "kernelspec": {
   "display_name": "Python 3",
   "language": "python",
   "name": "python3"
  },
  "language_info": {
   "codemirror_mode": {
    "name": "ipython",
    "version": 3
   },
   "file_extension": ".py",
   "mimetype": "text/x-python",
   "name": "python",
   "nbconvert_exporter": "python",
   "pygments_lexer": "ipython3",
   "version": "3.11.4"
  }
 },
 "nbformat": 4,
 "nbformat_minor": 2
}
