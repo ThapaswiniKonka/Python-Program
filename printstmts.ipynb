{
 "cells": [
  {
   "cell_type": "markdown",
   "metadata": {},
   "source": [
    "PRINT OPERATION TO DISPLAY OUTPUT"
   ]
  },
  {
   "cell_type": "code",
   "execution_count": 1,
   "metadata": {},
   "outputs": [
    {
     "name": "stdout",
     "output_type": "stream",
     "text": [
      "90\n"
     ]
    }
   ],
   "source": [
    "print(90)"
   ]
  },
  {
   "cell_type": "code",
   "execution_count": 2,
   "metadata": {},
   "outputs": [
    {
     "name": "stdout",
     "output_type": "stream",
     "text": [
      "90 20 80 30 40\n"
     ]
    }
   ],
   "source": [
    "print(90,20,80,30,40)"
   ]
  },
  {
   "cell_type": "markdown",
   "metadata": {},
   "source": [
    "USING SEP WE CAN SEPARATE THE VALUES BY USING ANY SYMBOL"
   ]
  },
  {
   "cell_type": "code",
   "execution_count": 5,
   "metadata": {},
   "outputs": [
    {
     "name": "stdout",
     "output_type": "stream",
     "text": [
      "90&20&80&30&40\n",
      "90 20 80 30 40\n",
      "90,20,80,30,40\n"
     ]
    }
   ],
   "source": [
    "print(90,20,80,30,40, sep=\"&\")\n",
    "print(90,20,80,30,40, sep=\" \")\n",
    "print(90,20,80,30,40, sep=\",\")\n"
   ]
  },
  {
   "cell_type": "code",
   "execution_count": 6,
   "metadata": {},
   "outputs": [
    {
     "name": "stdout",
     "output_type": "stream",
     "text": [
      "90\n",
      "20\n",
      "80\n",
      "30\n",
      "40\n"
     ]
    }
   ],
   "source": [
    "print(90)\n",
    "print(20)\n",
    "print(80)\n",
    "print(30)\n",
    "print(40)"
   ]
  },
  {
   "cell_type": "markdown",
   "metadata": {},
   "source": [
    "\\n IS USED TO PRINT ON NEXT LINE"
   ]
  },
  {
   "cell_type": "code",
   "execution_count": 7,
   "metadata": {},
   "outputs": [
    {
     "name": "stdout",
     "output_type": "stream",
     "text": [
      "90\n",
      "20\n",
      "80\n",
      "30\n",
      "40\n"
     ]
    }
   ],
   "source": [
    "print(90,20,80,30,40, sep=\"\\n\")"
   ]
  }
 ],
 "metadata": {
  "kernelspec": {
   "display_name": "Python 3",
   "language": "python",
   "name": "python3"
  },
  "language_info": {
   "codemirror_mode": {
    "name": "ipython",
    "version": 3
   },
   "file_extension": ".py",
   "mimetype": "text/x-python",
   "name": "python",
   "nbconvert_exporter": "python",
   "pygments_lexer": "ipython3",
   "version": "3.11.4"
  }
 },
 "nbformat": 4,
 "nbformat_minor": 2
}
