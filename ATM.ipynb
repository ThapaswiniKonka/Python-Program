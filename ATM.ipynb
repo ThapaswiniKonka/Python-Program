{
 "cells": [
  {
   "cell_type": "markdown",
   "metadata": {},
   "source": [
    "TO PERFORM ATM OPERATIONS USING While LOOP"
   ]
  },
  {
   "cell_type": "code",
   "execution_count": 2,
   "metadata": {},
   "outputs": [
    {
     "name": "stdout",
     "output_type": "stream",
     "text": [
      "-----------------------\n",
      "Press 1---------------->WITHDRAW\n",
      "Press 2---------------->DEPOSITE\n",
      "Press 3---------------->CHECK BALANCE\n",
      "Press 4---------------->CHANGE PIN\n",
      "Press any key for Exit\n",
      "Something went WRONG\n"
     ]
    }
   ],
   "source": [
    "account={'pin':2001,'balance':500}\n",
    "n=3\n",
    "while n>0:\n",
    "    pin=int(input(\"Enter the pin:\" ))\n",
    "    if pin==account['pin']:\n",
    "        print(\"-----------------------\")\n",
    "        print(\"Press 1---------------->WITHDRAW\")\n",
    "        print(\"Press 2---------------->DEPOSIT\")\n",
    "        print(\"Press 3---------------->CHECK BALANCE\")\n",
    "        print(\"Press 4---------------->CHANGE PIN\")\n",
    "        print('Press any key for Exit')\n",
    "        choice=int(input())\n",
    "        if choice==1:\n",
    "            amt=float(input())\n",
    "            if amt>account['balance']:\n",
    "                print(\"Insufficient Balance\")\n",
    "            else:\n",
    "                account['balance']=account['balance']-amt\n",
    "                print('-----------------------------')\n",
    "                print(\"WITHDRAW SUCCESSFUL\")\n",
    "                print('------------Thank you-----------')\n",
    "        elif choice==2:\n",
    "            amt=int(input())\n",
    "            account['balance']=account['balance']+amt\n",
    "            print('-----------------------------')\n",
    "            print(\"DEPOSIT SUCCESSFUL\")\n",
    "            print('------------Thank you-----------')\n",
    "        elif choice==3:\n",
    "            print('----------------------------')\n",
    "            print('Balance is:',account['balance'])\n",
    "            print('------------Thank you-----------')\n",
    "        elif choice==4:\n",
    "            print('-------------------------')\n",
    "            newpin=int(input(\"Enter Newpin:\", ))\n",
    "            account['pin']==newpin\n",
    "            print('------------Thank you-----------')\n",
    "        else:\n",
    "            print('Something went WRONG')\n",
    "    else:\n",
    "        print(\"Incorrect PIN\")\n",
    "    n=0\n"
   ]
  }
 ],
 "metadata": {
  "kernelspec": {
   "display_name": "Python 3",
   "language": "python",
   "name": "python3"
  },
  "language_info": {
   "codemirror_mode": {
    "name": "ipython",
    "version": 3
   },
   "file_extension": ".py",
   "mimetype": "text/x-python",
   "name": "python",
   "nbconvert_exporter": "python",
   "pygments_lexer": "ipython3",
   "version": "3.11.4"
  }
 },
 "nbformat": 4,
 "nbformat_minor": 2
}
