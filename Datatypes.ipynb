{
 "cells": [
  {
   "cell_type": "markdown",
   "metadata": {},
   "source": [
    "DATATYPES"
   ]
  },
  {
   "cell_type": "markdown",
   "metadata": {},
   "source": [
    "WE HAVE TWO TYPES OF DATATYPES:\n",
    "1.SINGLE VALUED DATATYPE\n",
    "  A.NUMERIC\n",
    "    a.int\n",
    "    b.Float\n",
    "    c.Complex\n",
    "  B.BOOLEAN\n",
    "    a.True\n",
    "    b.False\n",
    "  C.NONE\n",
    "2.MULTIVALUED DATATYPE\n",
    "  A.STRING\n",
    "  B.SET\n",
    "  C.TUPLE\n",
    "  D.LIST\n",
    "  E.DICTIONARY"
   ]
  },
  {
   "cell_type": "markdown",
   "metadata": {},
   "source": [
    "INTEGER"
   ]
  },
  {
   "cell_type": "code",
   "execution_count": 2,
   "metadata": {},
   "outputs": [
    {
     "name": "stdout",
     "output_type": "stream",
     "text": [
      "<class 'int'>\n",
      "<class 'int'>\n"
     ]
    }
   ],
   "source": [
    "a=9\n",
    "b=-9\n",
    "print(type(a))\n",
    "print(type(b))"
   ]
  },
  {
   "cell_type": "markdown",
   "metadata": {},
   "source": [
    "FLOAT"
   ]
  },
  {
   "cell_type": "code",
   "execution_count": 4,
   "metadata": {},
   "outputs": [
    {
     "name": "stdout",
     "output_type": "stream",
     "text": [
      "<class 'float'>\n",
      "<class 'float'>\n",
      "<class 'float'>\n"
     ]
    }
   ],
   "source": [
    "F=9.7\n",
    "F1=-8.6\n",
    "F2=-4.0\n",
    "print(type(F))\n",
    "print(type(F1))\n",
    "print(type(F2))"
   ]
  },
  {
   "cell_type": "markdown",
   "metadata": {},
   "source": [
    "COMPLEX\n"
   ]
  },
  {
   "cell_type": "markdown",
   "metadata": {},
   "source": [
    "Here we have two parts in complex one is imaginary part and one real part"
   ]
  },
  {
   "cell_type": "code",
   "execution_count": 7,
   "metadata": {},
   "outputs": [
    {
     "name": "stdout",
     "output_type": "stream",
     "text": [
      "<class 'complex'>\n",
      "<class 'complex'>\n"
     ]
    }
   ],
   "source": [
    "C=10+2j\n",
    "C1=-10-2j\n",
    "print(type(C))\n",
    "print(type(C1))"
   ]
  },
  {
   "cell_type": "markdown",
   "metadata": {},
   "source": [
    "BOOLEAN"
   ]
  },
  {
   "cell_type": "code",
   "execution_count": null,
   "metadata": {},
   "outputs": [],
   "source": [
    "B=True\n",
    "B1=False\n",
    "print(type(B))\n",
    "print(type(B1))\n"
   ]
  },
  {
   "cell_type": "markdown",
   "metadata": {},
   "source": [
    "STRING"
   ]
  },
  {
   "cell_type": "markdown",
   "metadata": {},
   "source": [
    "Indexing : Indexing is giving the sub addresses to the memory block can be either Positive or Negative. \n",
    "Note:Indexing can be possible only for Multivalued datatypes other than set.\n",
    "Syntax:Varname[]"
   ]
  },
  {
   "cell_type": "code",
   "execution_count": 15,
   "metadata": {},
   "outputs": [
    {
     "name": "stdout",
     "output_type": "stream",
     "text": [
      "<class 'str'>\n",
      "DHONI\n",
      "O\n",
      "N\n",
      "My name is DHONI\n"
     ]
    }
   ],
   "source": [
    "name=\"DHONI\"\n",
    "print(type(name))\n",
    "print(name)\n",
    "print(name[2])\n",
    "print(name[3])\n",
    "print(\"My name is\", name)"
   ]
  },
  {
   "cell_type": "markdown",
   "metadata": {},
   "source": [
    "LIST"
   ]
  },
  {
   "cell_type": "code",
   "execution_count": 22,
   "metadata": {},
   "outputs": [
    {
     "name": "stdout",
     "output_type": "stream",
     "text": [
      "<class 'list'>\n",
      "[1, 2, 'Dinga', True]\n",
      "Dinga\n",
      "g\n",
      "[1, 'Dinga', True]\n"
     ]
    }
   ],
   "source": [
    "L=[1,2,\"Dinga\",True]\n",
    "print(type(L))\n",
    "print(L)\n",
    "print(L[2])\n",
    "print(L[2][3])\n",
    "del L[1]\n",
    "print(L)"
   ]
  },
  {
   "cell_type": "markdown",
   "metadata": {},
   "source": [
    "TUPLE"
   ]
  },
  {
   "cell_type": "code",
   "execution_count": 26,
   "metadata": {},
   "outputs": [
    {
     "name": "stdout",
     "output_type": "stream",
     "text": [
      "<class 'tuple'>\n",
      "(1, 2, 'Dhoni', True)\n",
      "1\n",
      "i\n"
     ]
    }
   ],
   "source": [
    "T=(1,2,\"Dhoni\",True)\n",
    "print(type(T))\n",
    "print(T)\n",
    "print(T[0])\n",
    "print(T[2][4])"
   ]
  },
  {
   "cell_type": "markdown",
   "metadata": {},
   "source": [
    "SET"
   ]
  },
  {
   "cell_type": "code",
   "execution_count": 28,
   "metadata": {},
   "outputs": [
    {
     "name": "stdout",
     "output_type": "stream",
     "text": [
      "<class 'set'>\n",
      "{'Raja', 1, 2, 'True'}\n"
     ]
    }
   ],
   "source": [
    "S={1,2,\"Raja\",\"True\"}\n",
    "print(type(S))\n",
    "print(S)\n"
   ]
  },
  {
   "cell_type": "markdown",
   "metadata": {},
   "source": [
    "DICTIONARY"
   ]
  },
  {
   "cell_type": "code",
   "execution_count": 42,
   "metadata": {},
   "outputs": [
    {
     "name": "stdout",
     "output_type": "stream",
     "text": [
      "<class 'dict'>\n",
      "{'name': 'Dhoni', 'age': 42, 'team': 'CSK'}\n",
      "Dhoni\n",
      "K\n",
      "{'name': 'Dhoni', 'team': 'CSK'}\n"
     ]
    }
   ],
   "source": [
    "D={'name':\"Dhoni\",'age':42,'team':\"CSK\"}\n",
    "print(type(D))\n",
    "print(D)\n",
    "print(D['name'])\n",
    "print(D['team'][2])\n",
    "del D['age']\n",
    "print(D)"
   ]
  }
 ],
 "metadata": {
  "kernelspec": {
   "display_name": "Python 3",
   "language": "python",
   "name": "python3"
  },
  "language_info": {
   "codemirror_mode": {
    "name": "ipython",
    "version": 3
   },
   "file_extension": ".py",
   "mimetype": "text/x-python",
   "name": "python",
   "nbconvert_exporter": "python",
   "pygments_lexer": "ipython3",
   "version": "3.11.4"
  }
 },
 "nbformat": 4,
 "nbformat_minor": 2
}
